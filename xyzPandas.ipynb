{
 "cells": [
  {
   "cell_type": "markdown",
   "id": "f7f82fb1",
   "metadata": {},
   "source": [
    "# Assignment-1:"
   ]
  },
  {
   "cell_type": "markdown",
   "id": "2201efa4",
   "metadata": {},
   "source": [
    "Create 3 indexes with name, roll number, fees amount in a vector and print the data frame by taking values in indexes."
   ]
  },
  {
   "cell_type": "code",
   "execution_count": null,
   "id": "18b243a1",
   "metadata": {},
   "outputs": [
    {
     "ename": "NameError",
     "evalue": "name 'df' is not defined",
     "output_type": "error",
     "traceback": [
      "\u001b[31m---------------------------------------------------------------------------\u001b[39m",
      "\u001b[31mNameError\u001b[39m                                 Traceback (most recent call last)",
      "\u001b[36mCell\u001b[39m\u001b[36m \u001b[39m\u001b[32mIn[1]\u001b[39m\u001b[32m, line 3\u001b[39m\n\u001b[32m      1\u001b[39m \u001b[38;5;28;01mimport\u001b[39;00m\u001b[38;5;250m \u001b[39m\u001b[34;01mpandas\u001b[39;00m\u001b[38;5;250m \u001b[39m\u001b[38;5;28;01mas\u001b[39;00m\u001b[38;5;250m \u001b[39m\u001b[34;01mpd\u001b[39;00m\n\u001b[32m      2\u001b[39m x={\u001b[33m\"\u001b[39m\u001b[33mName\u001b[39m\u001b[33m\"\u001b[39m:[\u001b[33m\"\u001b[39m\u001b[33mTom\u001b[39m\u001b[33m\"\u001b[39m,\u001b[33m\"\u001b[39m\u001b[33mHarry\u001b[39m\u001b[33m\"\u001b[39m,\u001b[33m\"\u001b[39m\u001b[33mJames\u001b[39m\u001b[33m\"\u001b[39m],\u001b[33m\"\u001b[39m\u001b[33mRoll Number\u001b[39m\u001b[33m\"\u001b[39m:[\u001b[32m28\u001b[39m,\u001b[32m29\u001b[39m,\u001b[32m30\u001b[39m],\u001b[33m\"\u001b[39m\u001b[33mFees\u001b[39m\u001b[33m\"\u001b[39m:[\u001b[32m500\u001b[39m,\u001b[32m600\u001b[39m,\u001b[32m700\u001b[39m]}\n\u001b[32m----> \u001b[39m\u001b[32m3\u001b[39m df=pd.DataFrame(\u001b[43mdf\u001b[49m)\n\u001b[32m      4\u001b[39m \u001b[38;5;28mprint\u001b[39m(df)\n",
      "\u001b[31mNameError\u001b[39m: name 'df' is not defined"
     ]
    }
   ],
   "source": [
    "import pandas as pd\n",
    "x={\"Name\":[\"Tom\",\"Harry\",\"James\"],\"Roll Number\":[28,29,30],\"Fees\":[500,600,700]}\n",
    "df=pd.DataFrame(df)\n",
    "print(df) "
   ]
  },
  {
   "cell_type": "markdown",
   "id": "a075dba5",
   "metadata": {},
   "source": [
    "# Assignment-2:"
   ]
  },
  {
   "cell_type": "markdown",
   "id": "3a7b12b8",
   "metadata": {},
   "source": [
    "Read mba.csv file and just fetch the name and fees and print it with the help of data frame."
   ]
  },
  {
   "cell_type": "code",
   "execution_count": 29,
   "id": "7e96a23b",
   "metadata": {},
   "outputs": [
    {
     "name": "stdout",
     "output_type": "stream",
     "text": [
      "    Name  Fees\n",
      "0  Harry   600\n",
      "1  James   700\n",
      "2  Kevin   800\n",
      "3  Peter   900\n",
      "4    Tom  1000\n"
     ]
    }
   ],
   "source": [
    "x=pd.read_csv('D:\\\\Python_Programming\\\\AITWS_5thSem\\\\mba.csv')\n",
    "x1=x[['Name','Fees']]\n",
    "df=pd.DataFrame(x1)\n",
    "print(df)"
   ]
  },
  {
   "cell_type": "markdown",
   "id": "a0bd370e",
   "metadata": {},
   "source": [
    "# Assignment-3:"
   ]
  },
  {
   "cell_type": "markdown",
   "id": "49e2d4f6",
   "metadata": {},
   "source": [
    "Fetch your answer for question 2 with the help of Pandas Series."
   ]
  },
  {
   "cell_type": "code",
   "execution_count": 31,
   "id": "6d301286",
   "metadata": {},
   "outputs": [
    {
     "name": "stdout",
     "output_type": "stream",
     "text": [
      "0    Harry\n",
      "1    James\n",
      "2    Kevin\n",
      "3    Peter\n",
      "4      Tom\n",
      "Name: Name, dtype: object\n",
      "0     600\n",
      "1     700\n",
      "2     800\n",
      "3     900\n",
      "4    1000\n",
      "Name: Fees, dtype: int64\n"
     ]
    }
   ],
   "source": [
    "name=pd.Series(x[\"Name\"])\n",
    "fees=pd.Series(x[\"Fees\"])\n",
    "print(name)\n",
    "print(fees)"
   ]
  },
  {
   "cell_type": "markdown",
   "id": "a13dc8f6",
   "metadata": {},
   "source": [
    "# Assignment-4"
   ]
  },
  {
   "cell_type": "markdown",
   "id": "44140eeb",
   "metadata": {},
   "source": [
    "Copy the data from csv file dirtydata.csv and replace all the null calories value to 120 and\n",
    "also try to change the null date format to a valid date."
   ]
  },
  {
   "cell_type": "code",
   "execution_count": 38,
   "id": "69f99754",
   "metadata": {},
   "outputs": [
    {
     "name": "stdout",
     "output_type": "stream",
     "text": [
      "Original Data:\n",
      "    Duration         Date  Pulse  Maxpulse  Calories\n",
      "0         60  2020/12/01'    110       130     409.1\n",
      "1         60  2020/12/02'    117       145     479.0\n",
      "2         60  2020/12/03'    103       135     340.0\n",
      "3         45  2020/12/04'    109       175     282.4\n",
      "4         45  2020/12/05'    117       148     406.0\n",
      "5         60  2020/12/06'    102       127     300.0\n",
      "6         60  2020/12/07'    110       136     374.0\n",
      "7        450  2020/12/08'    104       134     253.3\n",
      "8         30  2020/12/09'    109       133     195.1\n",
      "9         60  2020/12/10'     98       124     269.0\n",
      "10        60  2020/12/11'    103       147     329.3\n",
      "11        60  2020/12/12'    100       120     250.7\n",
      "12        60  2020/12/12'    100       120     250.7\n",
      "13        60  2020/12/13'    106       128     345.3\n",
      "14        60  2020/12/14'    104       132     379.3\n",
      "15        60  2020/12/15'     98       123     275.0\n",
      "16        60  2020/12/16'     98       120     215.2\n",
      "17        60  2020/12/17'    100       120     300.0\n",
      "18        45  2020/12/18'     90       112       NaN\n",
      "19        60  2020/12/19'    103       123     323.0\n",
      "20        45  2020/12/20'     97       125     243.0\n",
      "21        60  2020/12/21'    108       131     364.2\n",
      "22        45          NaN    100       119     282.0\n",
      "23        60  2020/12/23'    130       101     300.0\n",
      "24        45  2020/12/24'    105       132     246.0\n",
      "25        60  2020/12/25'    102       126     334.5\n",
      "26        60     20201226    100       120     250.0\n",
      "27        60  2020/12/27'     92       118     241.0\n",
      "28        60  2020/12/28'    103       132       NaN\n",
      "29        60  2020/12/29'    100       132     280.0\n",
      "30        60  2020/12/30'    102       129     380.3\n",
      "31        60  2020/12/31'     92       115     243.0\n",
      "\n",
      "Modified Data:\n",
      "    Duration       Date  Pulse  Maxpulse  Calories\n",
      "0         60 2020-12-01    110       130     409.1\n",
      "1         60 2020-12-02    117       145     479.0\n",
      "2         60 2020-12-03    103       135     340.0\n",
      "3         45 2020-12-04    109       175     282.4\n",
      "4         45 2020-12-05    117       148     406.0\n",
      "5         60 2020-12-06    102       127     300.0\n",
      "6         60 2020-12-07    110       136     374.0\n",
      "7        450 2020-12-08    104       134     253.3\n",
      "8         30 2020-12-09    109       133     195.1\n",
      "9         60 2020-12-10     98       124     269.0\n",
      "10        60 2020-12-11    103       147     329.3\n",
      "11        60 2020-12-12    100       120     250.7\n",
      "12        60 2020-12-12    100       120     250.7\n",
      "13        60 2020-12-13    106       128     345.3\n",
      "14        60 2020-12-14    104       132     379.3\n",
      "15        60 2020-12-15     98       123     275.0\n",
      "16        60 2020-12-16     98       120     215.2\n",
      "17        60 2020-12-17    100       120     300.0\n",
      "18        45 2020-12-18     90       112     120.0\n",
      "19        60 2020-12-19    103       123     323.0\n",
      "20        45 2020-12-20     97       125     243.0\n",
      "21        60 2020-12-21    108       131     364.2\n",
      "22        45 2020-12-12    100       119     282.0\n",
      "23        60 2020-12-23    130       101     300.0\n",
      "24        45 2020-12-24    105       132     246.0\n",
      "25        60 2020-12-25    102       126     334.5\n",
      "26        60 2020-12-26    100       120     250.0\n",
      "27        60 2020-12-27     92       118     241.0\n",
      "28        60 2020-12-28    103       132     120.0\n",
      "29        60 2020-12-29    100       132     280.0\n",
      "30        60 2020-12-30    102       129     380.3\n",
      "31        60 2020-12-31     92       115     243.0\n"
     ]
    }
   ],
   "source": [
    "df=pd.read_csv('D:\\\\Python_Programming\\\\AITWS_5thSem\\\\dirtydata.csv')\n",
    "print(\"Original Data:\")\n",
    "print(df)\n",
    "temp=df\n",
    "temp['Calories'].fillna(120,inplace=True)\n",
    "temp['Date'] = pd.to_datetime(temp['Date'])\n",
    "x=temp['Date'].mode()[0]\n",
    "temp['Date'].fillna(x,inplace=True)\n",
    "print(\"\\nModified Data:\")\n",
    "print(temp)"
   ]
  },
  {
   "cell_type": "markdown",
   "id": "9539991d",
   "metadata": {},
   "source": [
    "# Assignment-5"
   ]
  },
  {
   "cell_type": "markdown",
   "id": "c48a26a2",
   "metadata": {},
   "source": [
    "Take a data frame df2 and replace all Nan rows with the mode value for the column\n",
    "calories. Data set is dirty data."
   ]
  },
  {
   "cell_type": "code",
   "execution_count": 44,
   "id": "54ba0fc3",
   "metadata": {},
   "outputs": [
    {
     "name": "stdout",
     "output_type": "stream",
     "text": [
      "Original Data:\n",
      "    Duration         Date  Pulse  Maxpulse  Calories\n",
      "0         60  2020/12/01'    110       130     409.1\n",
      "1         60  2020/12/02'    117       145     479.0\n",
      "2         60  2020/12/03'    103       135     340.0\n",
      "3         45  2020/12/04'    109       175     282.4\n",
      "4         45  2020/12/05'    117       148     406.0\n",
      "5         60  2020/12/06'    102       127     300.0\n",
      "6         60  2020/12/07'    110       136     374.0\n",
      "7        450  2020/12/08'    104       134     253.3\n",
      "8         30  2020/12/09'    109       133     195.1\n",
      "9         60  2020/12/10'     98       124     269.0\n",
      "10        60  2020/12/11'    103       147     329.3\n",
      "11        60  2020/12/12'    100       120     250.7\n",
      "12        60  2020/12/12'    100       120     250.7\n",
      "13        60  2020/12/13'    106       128     345.3\n",
      "14        60  2020/12/14'    104       132     379.3\n",
      "15        60  2020/12/15'     98       123     275.0\n",
      "16        60  2020/12/16'     98       120     215.2\n",
      "17        60  2020/12/17'    100       120     300.0\n",
      "18        45  2020/12/18'     90       112       NaN\n",
      "19        60  2020/12/19'    103       123     323.0\n",
      "20        45  2020/12/20'     97       125     243.0\n",
      "21        60  2020/12/21'    108       131     364.2\n",
      "22        45          NaN    100       119     282.0\n",
      "23        60  2020/12/23'    130       101     300.0\n",
      "24        45  2020/12/24'    105       132     246.0\n",
      "25        60  2020/12/25'    102       126     334.5\n",
      "26        60     20201226    100       120     250.0\n",
      "27        60  2020/12/27'     92       118     241.0\n",
      "28        60  2020/12/28'    103       132       NaN\n",
      "29        60  2020/12/29'    100       132     280.0\n",
      "30        60  2020/12/30'    102       129     380.3\n",
      "31        60  2020/12/31'     92       115     243.0\n",
      "\n",
      "Modified Data:\n",
      "    Duration         Date  Pulse  Maxpulse  Calories\n",
      "0         60  2020/12/01'    110       130     409.1\n",
      "1         60  2020/12/02'    117       145     479.0\n",
      "2         60  2020/12/03'    103       135     340.0\n",
      "3         45  2020/12/04'    109       175     282.4\n",
      "4         45  2020/12/05'    117       148     406.0\n",
      "5         60  2020/12/06'    102       127     300.0\n",
      "6         60  2020/12/07'    110       136     374.0\n",
      "7        450  2020/12/08'    104       134     253.3\n",
      "8         30  2020/12/09'    109       133     195.1\n",
      "9         60  2020/12/10'     98       124     269.0\n",
      "10        60  2020/12/11'    103       147     329.3\n",
      "11        60  2020/12/12'    100       120     250.7\n",
      "12        60  2020/12/12'    100       120     250.7\n",
      "13        60  2020/12/13'    106       128     345.3\n",
      "14        60  2020/12/14'    104       132     379.3\n",
      "15        60  2020/12/15'     98       123     275.0\n",
      "16        60  2020/12/16'     98       120     215.2\n",
      "17        60  2020/12/17'    100       120     300.0\n",
      "18        45  2020/12/18'     90       112     300.0\n",
      "19        60  2020/12/19'    103       123     323.0\n",
      "20        45  2020/12/20'     97       125     243.0\n",
      "21        60  2020/12/21'    108       131     364.2\n",
      "22        45          NaN    100       119     282.0\n",
      "23        60  2020/12/23'    130       101     300.0\n",
      "24        45  2020/12/24'    105       132     246.0\n",
      "25        60  2020/12/25'    102       126     334.5\n",
      "26        60     20201226    100       120     250.0\n",
      "27        60  2020/12/27'     92       118     241.0\n",
      "28        60  2020/12/28'    103       132     300.0\n",
      "29        60  2020/12/29'    100       132     280.0\n",
      "30        60  2020/12/30'    102       129     380.3\n",
      "31        60  2020/12/31'     92       115     243.0\n"
     ]
    }
   ],
   "source": [
    "df=pd.read_csv('D:\\\\Python_Programming\\\\AITWS_5thSem\\\\dirtydata.csv')\n",
    "print(\"Original Data:\")\n",
    "print(df)\n",
    "df2=df\n",
    "mode1=df2['Calories'].mode()[0]\n",
    "df2['Calories'].fillna(mode1,inplace=True)\n",
    "print(\"\\nModified Data:\")\n",
    "print(df2)"
   ]
  },
  {
   "cell_type": "markdown",
   "id": "cde5466f",
   "metadata": {},
   "source": [
    "# Assignment-6"
   ]
  },
  {
   "cell_type": "markdown",
   "id": "0a4c9fd3",
   "metadata": {},
   "source": [
    "Take df2 and for all the index values for the column calories if it is > 250 replace the\n",
    "calorie value with 250."
   ]
  },
  {
   "cell_type": "code",
   "execution_count": 55,
   "id": "d76c87ca",
   "metadata": {},
   "outputs": [
    {
     "ename": "SyntaxError",
     "evalue": "cannot assign to function call (3783907038.py, line 6)",
     "output_type": "error",
     "traceback": [
      "\u001b[1;36m  File \u001b[1;32m\"C:\\Users\\Hello\\AppData\\Local\\Temp\\ipykernel_13008\\3783907038.py\"\u001b[1;36m, line \u001b[1;32m6\u001b[0m\n\u001b[1;33m    df2.loc(x,'Calories') = temp\u001b[0m\n\u001b[1;37m    ^\u001b[0m\n\u001b[1;31mSyntaxError\u001b[0m\u001b[1;31m:\u001b[0m cannot assign to function call\n"
     ]
    }
   ],
   "source": [
    "print(\"Original Data:\")\n",
    "print(df2)\n",
    "for x in df2.index:\n",
    "    if df2.loc(x,'Calories') > 250:\n",
    "        df2.loc(x,'Calories') = 250\n",
    "print(\"Modified Data:\")\n",
    "print(df2)"
   ]
  },
  {
   "cell_type": "code",
   "execution_count": null,
   "id": "c9543c18",
   "metadata": {},
   "outputs": [],
   "source": []
  }
 ],
 "metadata": {
  "kernelspec": {
   "display_name": "Python 3",
   "language": "python",
   "name": "python3"
  },
  "language_info": {
   "codemirror_mode": {
    "name": "ipython",
    "version": 3
   },
   "file_extension": ".py",
   "mimetype": "text/x-python",
   "name": "python",
   "nbconvert_exporter": "python",
   "pygments_lexer": "ipython3",
   "version": "3.13.5"
  }
 },
 "nbformat": 4,
 "nbformat_minor": 5
}
